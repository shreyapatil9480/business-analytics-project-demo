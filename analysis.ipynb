{
 "cells": [
  {
   "cell_type": "markdown",
   "id": "9688adf6",
   "metadata": {},
   "source": [
    "# Exploratory Data Analysis and Predictive Modeling\n",
    "\n",
    "This notebook performs exploratory data analysis (EDA) on the synthetic business dataset and builds a predictive model to forecast profit based on several features.\n",
    "\n",
    "## Objectives\n",
    "\n",
    "1. Load and inspect the dataset\n",
    "2. Visualize distributions and relationships\n",
    "3. Perform feature engineering\n",
    "4. Train regression models to predict profit\n",
    "5. Evaluate model performance\n",
    "\n",
    "Let's begin!"
   ]
  },
  {
   "cell_type": "code",
   "execution_count": null,
   "id": "0f6d4852",
   "metadata": {},
   "outputs": [],
   "source": [
    "import pandas as pd\n",
    "import numpy as np\n",
    "import matplotlib.pyplot as plt\n",
    "import seaborn as sns\n",
    "from sklearn.model_selection import train_test_split\n",
    "from sklearn.linear_model import LinearRegression\n",
    "from sklearn.metrics import mean_squared_error, r2_score\n",
    "from sklearn.preprocessing import OneHotEncoder\n",
    "from sklearn.compose import ColumnTransformer\n",
    "from sklearn.pipeline import Pipeline"
   ]
  },
  {
   "cell_type": "code",
   "execution_count": null,
   "id": "2256f91d",
   "metadata": {},
   "outputs": [],
   "source": [
    "# Load dataset\n",
    "df = pd.read_csv('synthetic_business_data.csv')\n",
    "\n",
    "# Display first few rows\n",
    "df.head()"
   ]
  },
  {
   "cell_type": "code",
   "execution_count": null,
   "id": "65b5ef0d",
   "metadata": {},
   "outputs": [],
   "source": [
    "# Summary statistics\n",
    "df.describe(include='all')"
   ]
  },
  {
   "cell_type": "code",
   "execution_count": null,
   "id": "75b6b509",
   "metadata": {},
   "outputs": [],
   "source": [
    "# Histograms for numerical features\n",
    "num_cols = ['Marketing_Spend', 'Price', 'Quantity_Sold', 'Revenue', 'Cost', 'Profit', 'Customer_Satisfaction']\n",
    "df[num_cols].hist(figsize=(15, 10), bins=20)\n",
    "plt.suptitle('Distribution of Numeric Features')\n",
    "plt.show()\n",
    "\n",
    "# Boxplot of Profit by Region and Product Category\n",
    "plt.figure(figsize=(12, 6))\n",
    "sns.boxplot(data=df, x='Region', y='Profit', hue='Product_Category')\n",
    "plt.title('Profit by Region and Product Category')\n",
    "plt.show()"
   ]
  },
  {
   "cell_type": "code",
   "execution_count": null,
   "id": "7e1c6cf1",
   "metadata": {},
   "outputs": [],
   "source": [
    "# Correlation matrix\n",
    "plt.figure(figsize=(10, 8))\n",
    "correlation = df[['Marketing_Spend','Price','Quantity_Sold','Revenue','Cost','Profit','Customer_Satisfaction']].corr()\n",
    "sns.heatmap(correlation, annot=True, cmap='coolwarm', fmt='.2f')\n",
    "plt.title('Correlation Matrix')\n",
    "plt.show()"
   ]
  },
  {
   "cell_type": "code",
   "execution_count": null,
   "id": "e1794550",
   "metadata": {},
   "outputs": [],
   "source": [
    "# Prepare data for modeling\n",
    "X = df.drop(columns=['Profit', 'Revenue', 'Cost'])\n",
    "y = df['Profit']\n",
    "\n",
    "# Identify categorical and numeric columns\n",
    "cat_features = ['Region', 'Product_Category']\n",
    "num_features = ['Month', 'Marketing_Spend', 'Price', 'Quantity_Sold', 'Customer_Satisfaction']\n",
    "\n",
    "# Preprocessing pipeline\n",
    "preprocessor = ColumnTransformer(\n",
    "    transformers=[\n",
    "        ('cat', OneHotEncoder(handle_unknown='ignore'), cat_features),\n",
    "        ('num', 'passthrough', num_features)\n",
    "    ])\n",
    "\n",
    "# Split data into train and test sets\n",
    "X_train, X_test, y_train, y_test = train_test_split(X, y, test_size=0.2, random_state=42)\n",
    "\n",
    "# Define and train model\n",
    "model = Pipeline(steps=[\n",
    "    ('preprocessor', preprocessor),\n",
    "    ('regressor', LinearRegression())\n",
    "])\n",
    "\n",
    "model.fit(X_train, y_train)\n",
    "\n",
    "# Predict and evaluate\n",
    "y_pred = model.predict(X_test)\n",
    "rmse = mean_squared_error(y_test, y_pred, squared=False)\n",
    "r2 = r2_score(y_test, y_pred)\n",
    "\n",
    "rmse, r2"
   ]
  },
  {
   "cell_type": "markdown",
   "id": "67687f08",
   "metadata": {},
   "source": [
    "## Model Evaluation\n",
    "\n",
    "The Root Mean Squared Error (RMSE) and R-squared values provide insight into model performance. A lower RMSE indicates a better fit, while an R-squared closer to 1 indicates a higher proportion of variance explained by the model.\n",
    "\n",
    "Feel free to explore different algorithms, such as Random Forest or Gradient Boosting, and experiment with hyperparameters to improve performance."
   ]
  }
 ],
 "metadata": {},
 "nbformat": 4,
 "nbformat_minor": 5
}
